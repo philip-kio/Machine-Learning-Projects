{
 "metadata": {
  "language_info": {
   "codemirror_mode": {
    "name": "ipython",
    "version": 3
   },
   "file_extension": ".py",
   "mimetype": "text/x-python",
   "name": "python",
   "nbconvert_exporter": "python",
   "pygments_lexer": "ipython3",
   "version": "3.8.5-final"
  },
  "orig_nbformat": 2,
  "kernelspec": {
   "name": "python3",
   "display_name": "Python 3",
   "language": "python"
  }
 },
 "nbformat": 4,
 "nbformat_minor": 2,
 "cells": [
  {
   "cell_type": "code",
   "execution_count": 1,
   "metadata": {},
   "outputs": [],
   "source": [
    "# importing all the dependent packages\n",
    "\n",
    "import pandas as pd\n",
    "import numpy as np\n",
    "import matplotlib.pyplot as plt\n",
    "import seaborn as sns\n",
    "\n",
    "%matplotlib inline"
   ]
  },
  {
   "cell_type": "code",
   "execution_count": 2,
   "metadata": {},
   "outputs": [
    {
     "output_type": "stream",
     "name": "stdout",
     "text": [
      "File Name                                             Modified             Size\ngender_submission.csv                          2019-12-11 02:17:12         3258\ntest.csv                                       2019-12-11 02:17:12        28629\ntrain.csv                                      2019-12-11 02:17:12        61194\n"
     ]
    }
   ],
   "source": [
    "from zipfile import ZipFile\n",
    "\n",
    "\n",
    "file_name = 'titanic.zip'\n",
    "\n",
    "with ZipFile(file_name, 'r') as zip:\n",
    "    # printing out the content of the zip filee\n",
    "    zip.printdir()\n",
    "    # extracting the file\n",
    "    zip.extractall()\n"
   ]
  },
  {
   "cell_type": "code",
   "execution_count": 2,
   "metadata": {},
   "outputs": [],
   "source": [
    "train = pd.read_csv('train.csv')\n",
    "test= pd.read_csv('test.csv')"
   ]
  },
  {
   "cell_type": "code",
   "execution_count": 3,
   "metadata": {},
   "outputs": [
    {
     "output_type": "execute_result",
     "data": {
      "text/plain": [
       "((891, 12), (418, 11))"
      ]
     },
     "metadata": {},
     "execution_count": 3
    }
   ],
   "source": [
    "train.shape,test.shape"
   ]
  },
  {
   "cell_type": "code",
   "execution_count": 4,
   "metadata": {},
   "outputs": [
    {
     "output_type": "execute_result",
     "data": {
      "text/plain": [
       "PassengerId      0\n",
       "Survived         0\n",
       "Pclass           0\n",
       "Name             0\n",
       "Sex              0\n",
       "Age            177\n",
       "SibSp            0\n",
       "Parch            0\n",
       "Ticket           0\n",
       "Fare             0\n",
       "Cabin          687\n",
       "Embarked         2\n",
       "dtype: int64"
      ]
     },
     "metadata": {},
     "execution_count": 4
    }
   ],
   "source": [
    "train.isna().sum()"
   ]
  },
  {
   "cell_type": "code",
   "execution_count": 5,
   "metadata": {},
   "outputs": [
    {
     "output_type": "execute_result",
     "data": {
      "text/plain": [
       "PassengerId      0\n",
       "Pclass           0\n",
       "Name             0\n",
       "Sex              0\n",
       "Age             86\n",
       "SibSp            0\n",
       "Parch            0\n",
       "Ticket           0\n",
       "Fare             1\n",
       "Cabin          327\n",
       "Embarked         0\n",
       "dtype: int64"
      ]
     },
     "metadata": {},
     "execution_count": 5
    }
   ],
   "source": [
    "test.isna().sum(0)"
   ]
  },
  {
   "cell_type": "code",
   "execution_count": 6,
   "metadata": {},
   "outputs": [],
   "source": [
    "# concat the dataframe\n",
    "\n",
    "a = lambda a,b: pd.concat([a,b])"
   ]
  },
  {
   "cell_type": "code",
   "execution_count": 7,
   "metadata": {},
   "outputs": [],
   "source": [
    "train_ = train.copy()\n",
    "test_ = test.copy()"
   ]
  },
  {
   "cell_type": "code",
   "execution_count": 8,
   "metadata": {},
   "outputs": [],
   "source": [
    "df = a(train_,test_)"
   ]
  },
  {
   "cell_type": "code",
   "execution_count": 9,
   "metadata": {},
   "outputs": [
    {
     "output_type": "execute_result",
     "data": {
      "text/plain": [
       "   PassengerId  Survived  Pclass  \\\n",
       "0            1       0.0       3   \n",
       "1            2       1.0       1   \n",
       "2            3       1.0       3   \n",
       "3            4       1.0       1   \n",
       "4            5       0.0       3   \n",
       "\n",
       "                                                Name     Sex   Age  SibSp  \\\n",
       "0                            Braund, Mr. Owen Harris    male  22.0      1   \n",
       "1  Cumings, Mrs. John Bradley (Florence Briggs Th...  female  38.0      1   \n",
       "2                             Heikkinen, Miss. Laina  female  26.0      0   \n",
       "3       Futrelle, Mrs. Jacques Heath (Lily May Peel)  female  35.0      1   \n",
       "4                           Allen, Mr. William Henry    male  35.0      0   \n",
       "\n",
       "   Parch            Ticket     Fare Cabin Embarked  \n",
       "0      0         A/5 21171   7.2500   NaN        S  \n",
       "1      0          PC 17599  71.2833   C85        C  \n",
       "2      0  STON/O2. 3101282   7.9250   NaN        S  \n",
       "3      0            113803  53.1000  C123        S  \n",
       "4      0            373450   8.0500   NaN        S  "
      ],
      "text/html": "<div>\n<style scoped>\n    .dataframe tbody tr th:only-of-type {\n        vertical-align: middle;\n    }\n\n    .dataframe tbody tr th {\n        vertical-align: top;\n    }\n\n    .dataframe thead th {\n        text-align: right;\n    }\n</style>\n<table border=\"1\" class=\"dataframe\">\n  <thead>\n    <tr style=\"text-align: right;\">\n      <th></th>\n      <th>PassengerId</th>\n      <th>Survived</th>\n      <th>Pclass</th>\n      <th>Name</th>\n      <th>Sex</th>\n      <th>Age</th>\n      <th>SibSp</th>\n      <th>Parch</th>\n      <th>Ticket</th>\n      <th>Fare</th>\n      <th>Cabin</th>\n      <th>Embarked</th>\n    </tr>\n  </thead>\n  <tbody>\n    <tr>\n      <th>0</th>\n      <td>1</td>\n      <td>0.0</td>\n      <td>3</td>\n      <td>Braund, Mr. Owen Harris</td>\n      <td>male</td>\n      <td>22.0</td>\n      <td>1</td>\n      <td>0</td>\n      <td>A/5 21171</td>\n      <td>7.2500</td>\n      <td>NaN</td>\n      <td>S</td>\n    </tr>\n    <tr>\n      <th>1</th>\n      <td>2</td>\n      <td>1.0</td>\n      <td>1</td>\n      <td>Cumings, Mrs. John Bradley (Florence Briggs Th...</td>\n      <td>female</td>\n      <td>38.0</td>\n      <td>1</td>\n      <td>0</td>\n      <td>PC 17599</td>\n      <td>71.2833</td>\n      <td>C85</td>\n      <td>C</td>\n    </tr>\n    <tr>\n      <th>2</th>\n      <td>3</td>\n      <td>1.0</td>\n      <td>3</td>\n      <td>Heikkinen, Miss. Laina</td>\n      <td>female</td>\n      <td>26.0</td>\n      <td>0</td>\n      <td>0</td>\n      <td>STON/O2. 3101282</td>\n      <td>7.9250</td>\n      <td>NaN</td>\n      <td>S</td>\n    </tr>\n    <tr>\n      <th>3</th>\n      <td>4</td>\n      <td>1.0</td>\n      <td>1</td>\n      <td>Futrelle, Mrs. Jacques Heath (Lily May Peel)</td>\n      <td>female</td>\n      <td>35.0</td>\n      <td>1</td>\n      <td>0</td>\n      <td>113803</td>\n      <td>53.1000</td>\n      <td>C123</td>\n      <td>S</td>\n    </tr>\n    <tr>\n      <th>4</th>\n      <td>5</td>\n      <td>0.0</td>\n      <td>3</td>\n      <td>Allen, Mr. William Henry</td>\n      <td>male</td>\n      <td>35.0</td>\n      <td>0</td>\n      <td>0</td>\n      <td>373450</td>\n      <td>8.0500</td>\n      <td>NaN</td>\n      <td>S</td>\n    </tr>\n  </tbody>\n</table>\n</div>"
     },
     "metadata": {},
     "execution_count": 9
    }
   ],
   "source": [
    "df.head()"
   ]
  },
  {
   "cell_type": "code",
   "execution_count": 10,
   "metadata": {},
   "outputs": [
    {
     "output_type": "execute_result",
     "data": {
      "text/plain": [
       "(1309, 12)"
      ]
     },
     "metadata": {},
     "execution_count": 10
    }
   ],
   "source": [
    "df.shape"
   ]
  },
  {
   "cell_type": "code",
   "execution_count": 11,
   "metadata": {},
   "outputs": [],
   "source": [
    "df.drop(['PassengerId','Survived'],axis =1, inplace=True)"
   ]
  },
  {
   "cell_type": "code",
   "execution_count": 12,
   "metadata": {},
   "outputs": [
    {
     "output_type": "execute_result",
     "data": {
      "text/plain": [
       "   Pclass                                               Name     Sex   Age  \\\n",
       "0       3                            Braund, Mr. Owen Harris    male  22.0   \n",
       "1       1  Cumings, Mrs. John Bradley (Florence Briggs Th...  female  38.0   \n",
       "2       3                             Heikkinen, Miss. Laina  female  26.0   \n",
       "3       1       Futrelle, Mrs. Jacques Heath (Lily May Peel)  female  35.0   \n",
       "4       3                           Allen, Mr. William Henry    male  35.0   \n",
       "\n",
       "   SibSp  Parch            Ticket     Fare Cabin Embarked  \n",
       "0      1      0         A/5 21171   7.2500   NaN        S  \n",
       "1      1      0          PC 17599  71.2833   C85        C  \n",
       "2      0      0  STON/O2. 3101282   7.9250   NaN        S  \n",
       "3      1      0            113803  53.1000  C123        S  \n",
       "4      0      0            373450   8.0500   NaN        S  "
      ],
      "text/html": "<div>\n<style scoped>\n    .dataframe tbody tr th:only-of-type {\n        vertical-align: middle;\n    }\n\n    .dataframe tbody tr th {\n        vertical-align: top;\n    }\n\n    .dataframe thead th {\n        text-align: right;\n    }\n</style>\n<table border=\"1\" class=\"dataframe\">\n  <thead>\n    <tr style=\"text-align: right;\">\n      <th></th>\n      <th>Pclass</th>\n      <th>Name</th>\n      <th>Sex</th>\n      <th>Age</th>\n      <th>SibSp</th>\n      <th>Parch</th>\n      <th>Ticket</th>\n      <th>Fare</th>\n      <th>Cabin</th>\n      <th>Embarked</th>\n    </tr>\n  </thead>\n  <tbody>\n    <tr>\n      <th>0</th>\n      <td>3</td>\n      <td>Braund, Mr. Owen Harris</td>\n      <td>male</td>\n      <td>22.0</td>\n      <td>1</td>\n      <td>0</td>\n      <td>A/5 21171</td>\n      <td>7.2500</td>\n      <td>NaN</td>\n      <td>S</td>\n    </tr>\n    <tr>\n      <th>1</th>\n      <td>1</td>\n      <td>Cumings, Mrs. John Bradley (Florence Briggs Th...</td>\n      <td>female</td>\n      <td>38.0</td>\n      <td>1</td>\n      <td>0</td>\n      <td>PC 17599</td>\n      <td>71.2833</td>\n      <td>C85</td>\n      <td>C</td>\n    </tr>\n    <tr>\n      <th>2</th>\n      <td>3</td>\n      <td>Heikkinen, Miss. Laina</td>\n      <td>female</td>\n      <td>26.0</td>\n      <td>0</td>\n      <td>0</td>\n      <td>STON/O2. 3101282</td>\n      <td>7.9250</td>\n      <td>NaN</td>\n      <td>S</td>\n    </tr>\n    <tr>\n      <th>3</th>\n      <td>1</td>\n      <td>Futrelle, Mrs. Jacques Heath (Lily May Peel)</td>\n      <td>female</td>\n      <td>35.0</td>\n      <td>1</td>\n      <td>0</td>\n      <td>113803</td>\n      <td>53.1000</td>\n      <td>C123</td>\n      <td>S</td>\n    </tr>\n    <tr>\n      <th>4</th>\n      <td>3</td>\n      <td>Allen, Mr. William Henry</td>\n      <td>male</td>\n      <td>35.0</td>\n      <td>0</td>\n      <td>0</td>\n      <td>373450</td>\n      <td>8.0500</td>\n      <td>NaN</td>\n      <td>S</td>\n    </tr>\n  </tbody>\n</table>\n</div>"
     },
     "metadata": {},
     "execution_count": 12
    }
   ],
   "source": [
    "df.head()"
   ]
  },
  {
   "cell_type": "code",
   "execution_count": 13,
   "metadata": {},
   "outputs": [],
   "source": [
    "sex= {\n",
    "    'male':0,\n",
    "    'female': 1\n",
    "}"
   ]
  },
  {
   "cell_type": "code",
   "execution_count": 14,
   "metadata": {},
   "outputs": [],
   "source": [
    "df.Sex = df.Sex.map(sex)"
   ]
  },
  {
   "cell_type": "code",
   "execution_count": 15,
   "metadata": {},
   "outputs": [
    {
     "output_type": "execute_result",
     "data": {
      "text/plain": [
       "0    843\n",
       "1    466\n",
       "Name: Sex, dtype: int64"
      ]
     },
     "metadata": {},
     "execution_count": 15
    }
   ],
   "source": [
    "df.Sex.value_counts()"
   ]
  },
  {
   "cell_type": "code",
   "execution_count": 16,
   "metadata": {},
   "outputs": [],
   "source": [
    "def handling_missing(df, thresh, confirm= None):\n",
    "    holder = {}\n",
    "    for col in df.columns:\n",
    "        rate = (df[col].isna().sum()/df.shape[0]) *100\n",
    "        if rate >= thresh:\n",
    "            holder[col] = rate\n",
    "\n",
    "    if confirm == True:\n",
    "        df.drop([i for i in holder], axis =1,inplace= True)\n",
    "        return df\n",
    "    else:\n",
    "        print(f'the missing values are than the treshhold value')\n",
    "        return holder"
   ]
  },
  {
   "cell_type": "code",
   "execution_count": 17,
   "metadata": {},
   "outputs": [
    {
     "output_type": "stream",
     "name": "stdout",
     "text": [
      "the missing values are than the treshhold value\n"
     ]
    }
   ],
   "source": [
    "handling_missing(df,70)\n",
    "\n",
    "df=handling_missing(df,70,True)"
   ]
  },
  {
   "cell_type": "code",
   "execution_count": 18,
   "metadata": {},
   "outputs": [
    {
     "output_type": "execute_result",
     "data": {
      "text/plain": [
       "   Pclass                                               Name  Sex   Age  \\\n",
       "0       3                            Braund, Mr. Owen Harris    0  22.0   \n",
       "1       1  Cumings, Mrs. John Bradley (Florence Briggs Th...    1  38.0   \n",
       "2       3                             Heikkinen, Miss. Laina    1  26.0   \n",
       "3       1       Futrelle, Mrs. Jacques Heath (Lily May Peel)    1  35.0   \n",
       "4       3                           Allen, Mr. William Henry    0  35.0   \n",
       "\n",
       "   SibSp  Parch            Ticket     Fare Embarked  \n",
       "0      1      0         A/5 21171   7.2500        S  \n",
       "1      1      0          PC 17599  71.2833        C  \n",
       "2      0      0  STON/O2. 3101282   7.9250        S  \n",
       "3      1      0            113803  53.1000        S  \n",
       "4      0      0            373450   8.0500        S  "
      ],
      "text/html": "<div>\n<style scoped>\n    .dataframe tbody tr th:only-of-type {\n        vertical-align: middle;\n    }\n\n    .dataframe tbody tr th {\n        vertical-align: top;\n    }\n\n    .dataframe thead th {\n        text-align: right;\n    }\n</style>\n<table border=\"1\" class=\"dataframe\">\n  <thead>\n    <tr style=\"text-align: right;\">\n      <th></th>\n      <th>Pclass</th>\n      <th>Name</th>\n      <th>Sex</th>\n      <th>Age</th>\n      <th>SibSp</th>\n      <th>Parch</th>\n      <th>Ticket</th>\n      <th>Fare</th>\n      <th>Embarked</th>\n    </tr>\n  </thead>\n  <tbody>\n    <tr>\n      <th>0</th>\n      <td>3</td>\n      <td>Braund, Mr. Owen Harris</td>\n      <td>0</td>\n      <td>22.0</td>\n      <td>1</td>\n      <td>0</td>\n      <td>A/5 21171</td>\n      <td>7.2500</td>\n      <td>S</td>\n    </tr>\n    <tr>\n      <th>1</th>\n      <td>1</td>\n      <td>Cumings, Mrs. John Bradley (Florence Briggs Th...</td>\n      <td>1</td>\n      <td>38.0</td>\n      <td>1</td>\n      <td>0</td>\n      <td>PC 17599</td>\n      <td>71.2833</td>\n      <td>C</td>\n    </tr>\n    <tr>\n      <th>2</th>\n      <td>3</td>\n      <td>Heikkinen, Miss. Laina</td>\n      <td>1</td>\n      <td>26.0</td>\n      <td>0</td>\n      <td>0</td>\n      <td>STON/O2. 3101282</td>\n      <td>7.9250</td>\n      <td>S</td>\n    </tr>\n    <tr>\n      <th>3</th>\n      <td>1</td>\n      <td>Futrelle, Mrs. Jacques Heath (Lily May Peel)</td>\n      <td>1</td>\n      <td>35.0</td>\n      <td>1</td>\n      <td>0</td>\n      <td>113803</td>\n      <td>53.1000</td>\n      <td>S</td>\n    </tr>\n    <tr>\n      <th>4</th>\n      <td>3</td>\n      <td>Allen, Mr. William Henry</td>\n      <td>0</td>\n      <td>35.0</td>\n      <td>0</td>\n      <td>0</td>\n      <td>373450</td>\n      <td>8.0500</td>\n      <td>S</td>\n    </tr>\n  </tbody>\n</table>\n</div>"
     },
     "metadata": {},
     "execution_count": 18
    }
   ],
   "source": [
    "df.head()"
   ]
  },
  {
   "cell_type": "code",
   "execution_count": 19,
   "metadata": {},
   "outputs": [
    {
     "output_type": "execute_result",
     "data": {
      "text/plain": [
       "Pclass        0\n",
       "Name          0\n",
       "Sex           0\n",
       "Age         263\n",
       "SibSp         0\n",
       "Parch         0\n",
       "Ticket        0\n",
       "Fare          1\n",
       "Embarked      2\n",
       "dtype: int64"
      ]
     },
     "metadata": {},
     "execution_count": 19
    }
   ],
   "source": [
    "df.isna().sum()"
   ]
  },
  {
   "source": [
    "## Statistical Imputation"
   ],
   "cell_type": "markdown",
   "metadata": {}
  },
  {
   "cell_type": "code",
   "execution_count": 20,
   "metadata": {},
   "outputs": [
    {
     "output_type": "execute_result",
     "data": {
      "text/plain": [
       "Pclass        int64\n",
       "Name         object\n",
       "Sex           int64\n",
       "Age         float64\n",
       "SibSp         int64\n",
       "Parch         int64\n",
       "Ticket       object\n",
       "Fare        float64\n",
       "Embarked     object\n",
       "dtype: object"
      ]
     },
     "metadata": {},
     "execution_count": 20
    }
   ],
   "source": [
    "df.dtypes\n"
   ]
  },
  {
   "cell_type": "code",
   "execution_count": 21,
   "metadata": {},
   "outputs": [
    {
     "output_type": "execute_result",
     "data": {
      "text/plain": [
       "array(['S', 'C', 'Q', nan], dtype=object)"
      ]
     },
     "metadata": {},
     "execution_count": 21
    }
   ],
   "source": [
    "df.Embarked.unique()"
   ]
  },
  {
   "cell_type": "code",
   "execution_count": 22,
   "metadata": {},
   "outputs": [],
   "source": [
    "from sklearn.impute import SimpleImputer\n",
    "from sklearn.preprocessing import OneHotEncoder\n",
    " \n",
    " "
   ]
  },
  {
   "cell_type": "code",
   "execution_count": 23,
   "metadata": {},
   "outputs": [],
   "source": [
    "df['Embarked'].fillna(df.Embarked.mode, inplace=True)"
   ]
  },
  {
   "cell_type": "code",
   "execution_count": 24,
   "metadata": {},
   "outputs": [
    {
     "output_type": "execute_result",
     "data": {
      "text/plain": [
       "False    1309\n",
       "Name: Embarked, dtype: int64"
      ]
     },
     "metadata": {},
     "execution_count": 24
    }
   ],
   "source": [
    "df.Embarked.isna().value_counts()"
   ]
  },
  {
   "cell_type": "code",
   "execution_count": 25,
   "metadata": {},
   "outputs": [],
   "source": [
    " df_ = df.copy()\n",
    "\n",
    " df_.drop(['Name','Embarked','Ticket'],axis = 1, inplace=True)"
   ]
  },
  {
   "cell_type": "code",
   "execution_count": 26,
   "metadata": {},
   "outputs": [],
   "source": [
    "imputer = SimpleImputer(strategy='mean')\n",
    "\n",
    "cols = df_.columns\n",
    "\n",
    "df_ = imputer.fit_transform(df_)\n",
    "\n",
    "# convert back to a dataframe\n",
    "\n",
    "\n",
    "df_ = pd.DataFrame(df_,columns=cols)"
   ]
  },
  {
   "cell_type": "code",
   "execution_count": 27,
   "metadata": {},
   "outputs": [
    {
     "output_type": "execute_result",
     "data": {
      "text/plain": [
       "Pclass  Sex    Age    SibSp  Parch  Fare \n",
       "False   False  False  False  False  False    1309\n",
       "dtype: int64"
      ]
     },
     "metadata": {},
     "execution_count": 27
    }
   ],
   "source": [
    "df_.isna().value_counts()"
   ]
  },
  {
   "cell_type": "code",
   "execution_count": 28,
   "metadata": {},
   "outputs": [],
   "source": [
    "cat = ['Name','Embarked']\n",
    "\n",
    "x = df.Embarked\n",
    "y = df.Name\n",
    "\n"
   ]
  },
  {
   "cell_type": "code",
   "execution_count": 29,
   "metadata": {},
   "outputs": [],
   "source": [
    "df_['Name'] =df['Name'].values\n",
    "df_['Embarked'] = df['Embarked'].values"
   ]
  },
  {
   "cell_type": "code",
   "execution_count": 30,
   "metadata": {},
   "outputs": [
    {
     "output_type": "execute_result",
     "data": {
      "text/plain": [
       "      Pclass  Sex        Age  SibSp  Parch      Fare  \\\n",
       "0        3.0  0.0  22.000000    1.0    0.0    7.2500   \n",
       "1        1.0  1.0  38.000000    1.0    0.0   71.2833   \n",
       "2        3.0  1.0  26.000000    0.0    0.0    7.9250   \n",
       "3        1.0  1.0  35.000000    1.0    0.0   53.1000   \n",
       "4        3.0  0.0  35.000000    0.0    0.0    8.0500   \n",
       "...      ...  ...        ...    ...    ...       ...   \n",
       "1304     3.0  0.0  29.881138    0.0    0.0    8.0500   \n",
       "1305     1.0  1.0  39.000000    0.0    0.0  108.9000   \n",
       "1306     3.0  0.0  38.500000    0.0    0.0    7.2500   \n",
       "1307     3.0  0.0  29.881138    0.0    0.0    8.0500   \n",
       "1308     3.0  0.0  29.881138    1.0    1.0   22.3583   \n",
       "\n",
       "                                                   Name Embarked  \n",
       "0                               Braund, Mr. Owen Harris        S  \n",
       "1     Cumings, Mrs. John Bradley (Florence Briggs Th...        C  \n",
       "2                                Heikkinen, Miss. Laina        S  \n",
       "3          Futrelle, Mrs. Jacques Heath (Lily May Peel)        S  \n",
       "4                              Allen, Mr. William Henry        S  \n",
       "...                                                 ...      ...  \n",
       "1304                                 Spector, Mr. Woolf        S  \n",
       "1305                       Oliva y Ocana, Dona. Fermina        C  \n",
       "1306                       Saether, Mr. Simon Sivertsen        S  \n",
       "1307                                Ware, Mr. Frederick        S  \n",
       "1308                           Peter, Master. Michael J        C  \n",
       "\n",
       "[1309 rows x 8 columns]"
      ],
      "text/html": "<div>\n<style scoped>\n    .dataframe tbody tr th:only-of-type {\n        vertical-align: middle;\n    }\n\n    .dataframe tbody tr th {\n        vertical-align: top;\n    }\n\n    .dataframe thead th {\n        text-align: right;\n    }\n</style>\n<table border=\"1\" class=\"dataframe\">\n  <thead>\n    <tr style=\"text-align: right;\">\n      <th></th>\n      <th>Pclass</th>\n      <th>Sex</th>\n      <th>Age</th>\n      <th>SibSp</th>\n      <th>Parch</th>\n      <th>Fare</th>\n      <th>Name</th>\n      <th>Embarked</th>\n    </tr>\n  </thead>\n  <tbody>\n    <tr>\n      <th>0</th>\n      <td>3.0</td>\n      <td>0.0</td>\n      <td>22.000000</td>\n      <td>1.0</td>\n      <td>0.0</td>\n      <td>7.2500</td>\n      <td>Braund, Mr. Owen Harris</td>\n      <td>S</td>\n    </tr>\n    <tr>\n      <th>1</th>\n      <td>1.0</td>\n      <td>1.0</td>\n      <td>38.000000</td>\n      <td>1.0</td>\n      <td>0.0</td>\n      <td>71.2833</td>\n      <td>Cumings, Mrs. John Bradley (Florence Briggs Th...</td>\n      <td>C</td>\n    </tr>\n    <tr>\n      <th>2</th>\n      <td>3.0</td>\n      <td>1.0</td>\n      <td>26.000000</td>\n      <td>0.0</td>\n      <td>0.0</td>\n      <td>7.9250</td>\n      <td>Heikkinen, Miss. Laina</td>\n      <td>S</td>\n    </tr>\n    <tr>\n      <th>3</th>\n      <td>1.0</td>\n      <td>1.0</td>\n      <td>35.000000</td>\n      <td>1.0</td>\n      <td>0.0</td>\n      <td>53.1000</td>\n      <td>Futrelle, Mrs. Jacques Heath (Lily May Peel)</td>\n      <td>S</td>\n    </tr>\n    <tr>\n      <th>4</th>\n      <td>3.0</td>\n      <td>0.0</td>\n      <td>35.000000</td>\n      <td>0.0</td>\n      <td>0.0</td>\n      <td>8.0500</td>\n      <td>Allen, Mr. William Henry</td>\n      <td>S</td>\n    </tr>\n    <tr>\n      <th>...</th>\n      <td>...</td>\n      <td>...</td>\n      <td>...</td>\n      <td>...</td>\n      <td>...</td>\n      <td>...</td>\n      <td>...</td>\n      <td>...</td>\n    </tr>\n    <tr>\n      <th>1304</th>\n      <td>3.0</td>\n      <td>0.0</td>\n      <td>29.881138</td>\n      <td>0.0</td>\n      <td>0.0</td>\n      <td>8.0500</td>\n      <td>Spector, Mr. Woolf</td>\n      <td>S</td>\n    </tr>\n    <tr>\n      <th>1305</th>\n      <td>1.0</td>\n      <td>1.0</td>\n      <td>39.000000</td>\n      <td>0.0</td>\n      <td>0.0</td>\n      <td>108.9000</td>\n      <td>Oliva y Ocana, Dona. Fermina</td>\n      <td>C</td>\n    </tr>\n    <tr>\n      <th>1306</th>\n      <td>3.0</td>\n      <td>0.0</td>\n      <td>38.500000</td>\n      <td>0.0</td>\n      <td>0.0</td>\n      <td>7.2500</td>\n      <td>Saether, Mr. Simon Sivertsen</td>\n      <td>S</td>\n    </tr>\n    <tr>\n      <th>1307</th>\n      <td>3.0</td>\n      <td>0.0</td>\n      <td>29.881138</td>\n      <td>0.0</td>\n      <td>0.0</td>\n      <td>8.0500</td>\n      <td>Ware, Mr. Frederick</td>\n      <td>S</td>\n    </tr>\n    <tr>\n      <th>1308</th>\n      <td>3.0</td>\n      <td>0.0</td>\n      <td>29.881138</td>\n      <td>1.0</td>\n      <td>1.0</td>\n      <td>22.3583</td>\n      <td>Peter, Master. Michael J</td>\n      <td>C</td>\n    </tr>\n  </tbody>\n</table>\n<p>1309 rows × 8 columns</p>\n</div>"
     },
     "metadata": {},
     "execution_count": 30
    }
   ],
   "source": [
    "df_"
   ]
  },
  {
   "cell_type": "code",
   "execution_count": 31,
   "metadata": {},
   "outputs": [],
   "source": [
    "sex_d = pd.get_dummies(df_.Sex,prefix='Sex', drop_first=True)\n",
    "em_d=pd.get_dummies(df_.Embarked, drop_first=True)"
   ]
  },
  {
   "cell_type": "code",
   "execution_count": 32,
   "metadata": {},
   "outputs": [
    {
     "output_type": "execute_result",
     "data": {
      "text/plain": [
       "      Sex_1.0\n",
       "0           0\n",
       "1           1\n",
       "2           1\n",
       "3           1\n",
       "4           0\n",
       "...       ...\n",
       "1304        0\n",
       "1305        1\n",
       "1306        0\n",
       "1307        0\n",
       "1308        0\n",
       "\n",
       "[1309 rows x 1 columns]"
      ],
      "text/html": "<div>\n<style scoped>\n    .dataframe tbody tr th:only-of-type {\n        vertical-align: middle;\n    }\n\n    .dataframe tbody tr th {\n        vertical-align: top;\n    }\n\n    .dataframe thead th {\n        text-align: right;\n    }\n</style>\n<table border=\"1\" class=\"dataframe\">\n  <thead>\n    <tr style=\"text-align: right;\">\n      <th></th>\n      <th>Sex_1.0</th>\n    </tr>\n  </thead>\n  <tbody>\n    <tr>\n      <th>0</th>\n      <td>0</td>\n    </tr>\n    <tr>\n      <th>1</th>\n      <td>1</td>\n    </tr>\n    <tr>\n      <th>2</th>\n      <td>1</td>\n    </tr>\n    <tr>\n      <th>3</th>\n      <td>1</td>\n    </tr>\n    <tr>\n      <th>4</th>\n      <td>0</td>\n    </tr>\n    <tr>\n      <th>...</th>\n      <td>...</td>\n    </tr>\n    <tr>\n      <th>1304</th>\n      <td>0</td>\n    </tr>\n    <tr>\n      <th>1305</th>\n      <td>1</td>\n    </tr>\n    <tr>\n      <th>1306</th>\n      <td>0</td>\n    </tr>\n    <tr>\n      <th>1307</th>\n      <td>0</td>\n    </tr>\n    <tr>\n      <th>1308</th>\n      <td>0</td>\n    </tr>\n  </tbody>\n</table>\n<p>1309 rows × 1 columns</p>\n</div>"
     },
     "metadata": {},
     "execution_count": 32
    }
   ],
   "source": [
    "sex_d"
   ]
  },
  {
   "cell_type": "code",
   "execution_count": 33,
   "metadata": {},
   "outputs": [],
   "source": [
    "\n",
    "df_=pd.concat([df_,em_d],axis=1)"
   ]
  },
  {
   "cell_type": "code",
   "execution_count": 34,
   "metadata": {},
   "outputs": [],
   "source": [
    "df_=pd.concat([df_,sex_d],axis=1)"
   ]
  },
  {
   "cell_type": "code",
   "execution_count": 35,
   "metadata": {},
   "outputs": [
    {
     "output_type": "execute_result",
     "data": {
      "text/plain": [
       "      Pclass  Sex        Age  SibSp  Parch      Fare  \\\n",
       "0        3.0  0.0  22.000000    1.0    0.0    7.2500   \n",
       "1        1.0  1.0  38.000000    1.0    0.0   71.2833   \n",
       "2        3.0  1.0  26.000000    0.0    0.0    7.9250   \n",
       "3        1.0  1.0  35.000000    1.0    0.0   53.1000   \n",
       "4        3.0  0.0  35.000000    0.0    0.0    8.0500   \n",
       "...      ...  ...        ...    ...    ...       ...   \n",
       "1304     3.0  0.0  29.881138    0.0    0.0    8.0500   \n",
       "1305     1.0  1.0  39.000000    0.0    0.0  108.9000   \n",
       "1306     3.0  0.0  38.500000    0.0    0.0    7.2500   \n",
       "1307     3.0  0.0  29.881138    0.0    0.0    8.0500   \n",
       "1308     3.0  0.0  29.881138    1.0    1.0   22.3583   \n",
       "\n",
       "                                                   Name Embarked  C  Q  S  \\\n",
       "0                               Braund, Mr. Owen Harris        S  0  0  1   \n",
       "1     Cumings, Mrs. John Bradley (Florence Briggs Th...        C  1  0  0   \n",
       "2                                Heikkinen, Miss. Laina        S  0  0  1   \n",
       "3          Futrelle, Mrs. Jacques Heath (Lily May Peel)        S  0  0  1   \n",
       "4                              Allen, Mr. William Henry        S  0  0  1   \n",
       "...                                                 ...      ... .. .. ..   \n",
       "1304                                 Spector, Mr. Woolf        S  0  0  1   \n",
       "1305                       Oliva y Ocana, Dona. Fermina        C  1  0  0   \n",
       "1306                       Saether, Mr. Simon Sivertsen        S  0  0  1   \n",
       "1307                                Ware, Mr. Frederick        S  0  0  1   \n",
       "1308                           Peter, Master. Michael J        C  1  0  0   \n",
       "\n",
       "      Sex_1.0  \n",
       "0           0  \n",
       "1           1  \n",
       "2           1  \n",
       "3           1  \n",
       "4           0  \n",
       "...       ...  \n",
       "1304        0  \n",
       "1305        1  \n",
       "1306        0  \n",
       "1307        0  \n",
       "1308        0  \n",
       "\n",
       "[1309 rows x 12 columns]"
      ],
      "text/html": "<div>\n<style scoped>\n    .dataframe tbody tr th:only-of-type {\n        vertical-align: middle;\n    }\n\n    .dataframe tbody tr th {\n        vertical-align: top;\n    }\n\n    .dataframe thead th {\n        text-align: right;\n    }\n</style>\n<table border=\"1\" class=\"dataframe\">\n  <thead>\n    <tr style=\"text-align: right;\">\n      <th></th>\n      <th>Pclass</th>\n      <th>Sex</th>\n      <th>Age</th>\n      <th>SibSp</th>\n      <th>Parch</th>\n      <th>Fare</th>\n      <th>Name</th>\n      <th>Embarked</th>\n      <th>C</th>\n      <th>Q</th>\n      <th>S</th>\n      <th>Sex_1.0</th>\n    </tr>\n  </thead>\n  <tbody>\n    <tr>\n      <th>0</th>\n      <td>3.0</td>\n      <td>0.0</td>\n      <td>22.000000</td>\n      <td>1.0</td>\n      <td>0.0</td>\n      <td>7.2500</td>\n      <td>Braund, Mr. Owen Harris</td>\n      <td>S</td>\n      <td>0</td>\n      <td>0</td>\n      <td>1</td>\n      <td>0</td>\n    </tr>\n    <tr>\n      <th>1</th>\n      <td>1.0</td>\n      <td>1.0</td>\n      <td>38.000000</td>\n      <td>1.0</td>\n      <td>0.0</td>\n      <td>71.2833</td>\n      <td>Cumings, Mrs. John Bradley (Florence Briggs Th...</td>\n      <td>C</td>\n      <td>1</td>\n      <td>0</td>\n      <td>0</td>\n      <td>1</td>\n    </tr>\n    <tr>\n      <th>2</th>\n      <td>3.0</td>\n      <td>1.0</td>\n      <td>26.000000</td>\n      <td>0.0</td>\n      <td>0.0</td>\n      <td>7.9250</td>\n      <td>Heikkinen, Miss. Laina</td>\n      <td>S</td>\n      <td>0</td>\n      <td>0</td>\n      <td>1</td>\n      <td>1</td>\n    </tr>\n    <tr>\n      <th>3</th>\n      <td>1.0</td>\n      <td>1.0</td>\n      <td>35.000000</td>\n      <td>1.0</td>\n      <td>0.0</td>\n      <td>53.1000</td>\n      <td>Futrelle, Mrs. Jacques Heath (Lily May Peel)</td>\n      <td>S</td>\n      <td>0</td>\n      <td>0</td>\n      <td>1</td>\n      <td>1</td>\n    </tr>\n    <tr>\n      <th>4</th>\n      <td>3.0</td>\n      <td>0.0</td>\n      <td>35.000000</td>\n      <td>0.0</td>\n      <td>0.0</td>\n      <td>8.0500</td>\n      <td>Allen, Mr. William Henry</td>\n      <td>S</td>\n      <td>0</td>\n      <td>0</td>\n      <td>1</td>\n      <td>0</td>\n    </tr>\n    <tr>\n      <th>...</th>\n      <td>...</td>\n      <td>...</td>\n      <td>...</td>\n      <td>...</td>\n      <td>...</td>\n      <td>...</td>\n      <td>...</td>\n      <td>...</td>\n      <td>...</td>\n      <td>...</td>\n      <td>...</td>\n      <td>...</td>\n    </tr>\n    <tr>\n      <th>1304</th>\n      <td>3.0</td>\n      <td>0.0</td>\n      <td>29.881138</td>\n      <td>0.0</td>\n      <td>0.0</td>\n      <td>8.0500</td>\n      <td>Spector, Mr. Woolf</td>\n      <td>S</td>\n      <td>0</td>\n      <td>0</td>\n      <td>1</td>\n      <td>0</td>\n    </tr>\n    <tr>\n      <th>1305</th>\n      <td>1.0</td>\n      <td>1.0</td>\n      <td>39.000000</td>\n      <td>0.0</td>\n      <td>0.0</td>\n      <td>108.9000</td>\n      <td>Oliva y Ocana, Dona. Fermina</td>\n      <td>C</td>\n      <td>1</td>\n      <td>0</td>\n      <td>0</td>\n      <td>1</td>\n    </tr>\n    <tr>\n      <th>1306</th>\n      <td>3.0</td>\n      <td>0.0</td>\n      <td>38.500000</td>\n      <td>0.0</td>\n      <td>0.0</td>\n      <td>7.2500</td>\n      <td>Saether, Mr. Simon Sivertsen</td>\n      <td>S</td>\n      <td>0</td>\n      <td>0</td>\n      <td>1</td>\n      <td>0</td>\n    </tr>\n    <tr>\n      <th>1307</th>\n      <td>3.0</td>\n      <td>0.0</td>\n      <td>29.881138</td>\n      <td>0.0</td>\n      <td>0.0</td>\n      <td>8.0500</td>\n      <td>Ware, Mr. Frederick</td>\n      <td>S</td>\n      <td>0</td>\n      <td>0</td>\n      <td>1</td>\n      <td>0</td>\n    </tr>\n    <tr>\n      <th>1308</th>\n      <td>3.0</td>\n      <td>0.0</td>\n      <td>29.881138</td>\n      <td>1.0</td>\n      <td>1.0</td>\n      <td>22.3583</td>\n      <td>Peter, Master. Michael J</td>\n      <td>C</td>\n      <td>1</td>\n      <td>0</td>\n      <td>0</td>\n      <td>0</td>\n    </tr>\n  </tbody>\n</table>\n<p>1309 rows × 12 columns</p>\n</div>"
     },
     "metadata": {},
     "execution_count": 35
    }
   ],
   "source": [
    "df_"
   ]
  },
  {
   "cell_type": "code",
   "execution_count": 36,
   "metadata": {},
   "outputs": [],
   "source": [
    "df_.drop(['Sex','Embarked'],axis=1,inplace=True)"
   ]
  },
  {
   "cell_type": "code",
   "execution_count": 37,
   "metadata": {},
   "outputs": [
    {
     "output_type": "execute_result",
     "data": {
      "text/plain": [
       "      Pclass        Age  SibSp  Parch      Fare  \\\n",
       "0        3.0  22.000000    1.0    0.0    7.2500   \n",
       "1        1.0  38.000000    1.0    0.0   71.2833   \n",
       "2        3.0  26.000000    0.0    0.0    7.9250   \n",
       "3        1.0  35.000000    1.0    0.0   53.1000   \n",
       "4        3.0  35.000000    0.0    0.0    8.0500   \n",
       "...      ...        ...    ...    ...       ...   \n",
       "1304     3.0  29.881138    0.0    0.0    8.0500   \n",
       "1305     1.0  39.000000    0.0    0.0  108.9000   \n",
       "1306     3.0  38.500000    0.0    0.0    7.2500   \n",
       "1307     3.0  29.881138    0.0    0.0    8.0500   \n",
       "1308     3.0  29.881138    1.0    1.0   22.3583   \n",
       "\n",
       "                                                   Name  C  Q  S  Sex_1.0  \n",
       "0                               Braund, Mr. Owen Harris  0  0  1        0  \n",
       "1     Cumings, Mrs. John Bradley (Florence Briggs Th...  1  0  0        1  \n",
       "2                                Heikkinen, Miss. Laina  0  0  1        1  \n",
       "3          Futrelle, Mrs. Jacques Heath (Lily May Peel)  0  0  1        1  \n",
       "4                              Allen, Mr. William Henry  0  0  1        0  \n",
       "...                                                 ... .. .. ..      ...  \n",
       "1304                                 Spector, Mr. Woolf  0  0  1        0  \n",
       "1305                       Oliva y Ocana, Dona. Fermina  1  0  0        1  \n",
       "1306                       Saether, Mr. Simon Sivertsen  0  0  1        0  \n",
       "1307                                Ware, Mr. Frederick  0  0  1        0  \n",
       "1308                           Peter, Master. Michael J  1  0  0        0  \n",
       "\n",
       "[1309 rows x 10 columns]"
      ],
      "text/html": "<div>\n<style scoped>\n    .dataframe tbody tr th:only-of-type {\n        vertical-align: middle;\n    }\n\n    .dataframe tbody tr th {\n        vertical-align: top;\n    }\n\n    .dataframe thead th {\n        text-align: right;\n    }\n</style>\n<table border=\"1\" class=\"dataframe\">\n  <thead>\n    <tr style=\"text-align: right;\">\n      <th></th>\n      <th>Pclass</th>\n      <th>Age</th>\n      <th>SibSp</th>\n      <th>Parch</th>\n      <th>Fare</th>\n      <th>Name</th>\n      <th>C</th>\n      <th>Q</th>\n      <th>S</th>\n      <th>Sex_1.0</th>\n    </tr>\n  </thead>\n  <tbody>\n    <tr>\n      <th>0</th>\n      <td>3.0</td>\n      <td>22.000000</td>\n      <td>1.0</td>\n      <td>0.0</td>\n      <td>7.2500</td>\n      <td>Braund, Mr. Owen Harris</td>\n      <td>0</td>\n      <td>0</td>\n      <td>1</td>\n      <td>0</td>\n    </tr>\n    <tr>\n      <th>1</th>\n      <td>1.0</td>\n      <td>38.000000</td>\n      <td>1.0</td>\n      <td>0.0</td>\n      <td>71.2833</td>\n      <td>Cumings, Mrs. John Bradley (Florence Briggs Th...</td>\n      <td>1</td>\n      <td>0</td>\n      <td>0</td>\n      <td>1</td>\n    </tr>\n    <tr>\n      <th>2</th>\n      <td>3.0</td>\n      <td>26.000000</td>\n      <td>0.0</td>\n      <td>0.0</td>\n      <td>7.9250</td>\n      <td>Heikkinen, Miss. Laina</td>\n      <td>0</td>\n      <td>0</td>\n      <td>1</td>\n      <td>1</td>\n    </tr>\n    <tr>\n      <th>3</th>\n      <td>1.0</td>\n      <td>35.000000</td>\n      <td>1.0</td>\n      <td>0.0</td>\n      <td>53.1000</td>\n      <td>Futrelle, Mrs. Jacques Heath (Lily May Peel)</td>\n      <td>0</td>\n      <td>0</td>\n      <td>1</td>\n      <td>1</td>\n    </tr>\n    <tr>\n      <th>4</th>\n      <td>3.0</td>\n      <td>35.000000</td>\n      <td>0.0</td>\n      <td>0.0</td>\n      <td>8.0500</td>\n      <td>Allen, Mr. William Henry</td>\n      <td>0</td>\n      <td>0</td>\n      <td>1</td>\n      <td>0</td>\n    </tr>\n    <tr>\n      <th>...</th>\n      <td>...</td>\n      <td>...</td>\n      <td>...</td>\n      <td>...</td>\n      <td>...</td>\n      <td>...</td>\n      <td>...</td>\n      <td>...</td>\n      <td>...</td>\n      <td>...</td>\n    </tr>\n    <tr>\n      <th>1304</th>\n      <td>3.0</td>\n      <td>29.881138</td>\n      <td>0.0</td>\n      <td>0.0</td>\n      <td>8.0500</td>\n      <td>Spector, Mr. Woolf</td>\n      <td>0</td>\n      <td>0</td>\n      <td>1</td>\n      <td>0</td>\n    </tr>\n    <tr>\n      <th>1305</th>\n      <td>1.0</td>\n      <td>39.000000</td>\n      <td>0.0</td>\n      <td>0.0</td>\n      <td>108.9000</td>\n      <td>Oliva y Ocana, Dona. Fermina</td>\n      <td>1</td>\n      <td>0</td>\n      <td>0</td>\n      <td>1</td>\n    </tr>\n    <tr>\n      <th>1306</th>\n      <td>3.0</td>\n      <td>38.500000</td>\n      <td>0.0</td>\n      <td>0.0</td>\n      <td>7.2500</td>\n      <td>Saether, Mr. Simon Sivertsen</td>\n      <td>0</td>\n      <td>0</td>\n      <td>1</td>\n      <td>0</td>\n    </tr>\n    <tr>\n      <th>1307</th>\n      <td>3.0</td>\n      <td>29.881138</td>\n      <td>0.0</td>\n      <td>0.0</td>\n      <td>8.0500</td>\n      <td>Ware, Mr. Frederick</td>\n      <td>0</td>\n      <td>0</td>\n      <td>1</td>\n      <td>0</td>\n    </tr>\n    <tr>\n      <th>1308</th>\n      <td>3.0</td>\n      <td>29.881138</td>\n      <td>1.0</td>\n      <td>1.0</td>\n      <td>22.3583</td>\n      <td>Peter, Master. Michael J</td>\n      <td>1</td>\n      <td>0</td>\n      <td>0</td>\n      <td>0</td>\n    </tr>\n  </tbody>\n</table>\n<p>1309 rows × 10 columns</p>\n</div>"
     },
     "metadata": {},
     "execution_count": 37
    }
   ],
   "source": [
    "df_"
   ]
  },
  {
   "source": [
    "# training data without comprehensive feature engineering \n"
   ],
   "cell_type": "markdown",
   "metadata": {}
  },
  {
   "cell_type": "code",
   "execution_count": 38,
   "metadata": {},
   "outputs": [],
   "source": [
    "from sklearn.model_selection import train_test_split\n",
    "from sklearn.ensemble import RandomForestClassifier\n"
   ]
  },
  {
   "cell_type": "code",
   "execution_count": 39,
   "metadata": {},
   "outputs": [],
   "source": [
    "def seperator(df, shape):\n",
    "    trainer = df.iloc[:shape]\n",
    "    tester = df.iloc[shape:]\n",
    "\n",
    "    return trainer, tester"
   ]
  },
  {
   "cell_type": "code",
   "execution_count": 40,
   "metadata": {},
   "outputs": [],
   "source": [
    "sep = train.shape[0]\n",
    "trainer,tester =seperator(df_,sep)"
   ]
  },
  {
   "cell_type": "code",
   "execution_count": 41,
   "metadata": {},
   "outputs": [
    {
     "output_type": "execute_result",
     "data": {
      "text/plain": [
       "(1309, 10)"
      ]
     },
     "metadata": {},
     "execution_count": 41
    }
   ],
   "source": [
    "df_.shape"
   ]
  },
  {
   "cell_type": "code",
   "execution_count": 42,
   "metadata": {},
   "outputs": [
    {
     "output_type": "execute_result",
     "data": {
      "text/plain": [
       "(891, 10)"
      ]
     },
     "metadata": {},
     "execution_count": 42
    }
   ],
   "source": [
    "trainer.shape"
   ]
  },
  {
   "cell_type": "code",
   "execution_count": 43,
   "metadata": {},
   "outputs": [
    {
     "output_type": "execute_result",
     "data": {
      "text/plain": [
       "   Pclass   Age  SibSp  Parch     Fare  \\\n",
       "0     3.0  22.0    1.0    0.0   7.2500   \n",
       "1     1.0  38.0    1.0    0.0  71.2833   \n",
       "\n",
       "                                                Name  C  Q  S  Sex_1.0  \n",
       "0                            Braund, Mr. Owen Harris  0  0  1        0  \n",
       "1  Cumings, Mrs. John Bradley (Florence Briggs Th...  1  0  0        1  "
      ],
      "text/html": "<div>\n<style scoped>\n    .dataframe tbody tr th:only-of-type {\n        vertical-align: middle;\n    }\n\n    .dataframe tbody tr th {\n        vertical-align: top;\n    }\n\n    .dataframe thead th {\n        text-align: right;\n    }\n</style>\n<table border=\"1\" class=\"dataframe\">\n  <thead>\n    <tr style=\"text-align: right;\">\n      <th></th>\n      <th>Pclass</th>\n      <th>Age</th>\n      <th>SibSp</th>\n      <th>Parch</th>\n      <th>Fare</th>\n      <th>Name</th>\n      <th>C</th>\n      <th>Q</th>\n      <th>S</th>\n      <th>Sex_1.0</th>\n    </tr>\n  </thead>\n  <tbody>\n    <tr>\n      <th>0</th>\n      <td>3.0</td>\n      <td>22.0</td>\n      <td>1.0</td>\n      <td>0.0</td>\n      <td>7.2500</td>\n      <td>Braund, Mr. Owen Harris</td>\n      <td>0</td>\n      <td>0</td>\n      <td>1</td>\n      <td>0</td>\n    </tr>\n    <tr>\n      <th>1</th>\n      <td>1.0</td>\n      <td>38.0</td>\n      <td>1.0</td>\n      <td>0.0</td>\n      <td>71.2833</td>\n      <td>Cumings, Mrs. John Bradley (Florence Briggs Th...</td>\n      <td>1</td>\n      <td>0</td>\n      <td>0</td>\n      <td>1</td>\n    </tr>\n  </tbody>\n</table>\n</div>"
     },
     "metadata": {},
     "execution_count": 43
    }
   ],
   "source": [
    "trainer.head(2)"
   ]
  },
  {
   "cell_type": "code",
   "execution_count": 44,
   "metadata": {},
   "outputs": [],
   "source": [
    "trainer.drop(['Name'], axis =1, inplace =True)\n",
    "tester.drop(['Name'], axis =1, inplace =True)"
   ]
  },
  {
   "cell_type": "code",
   "execution_count": 45,
   "metadata": {},
   "outputs": [
    {
     "output_type": "execute_result",
     "data": {
      "text/plain": [
       "   Pclass   Age  SibSp  Parch     Fare  C  Q  S  Sex_1.0\n",
       "0     3.0  22.0    1.0    0.0   7.2500  0  0  1        0\n",
       "1     1.0  38.0    1.0    0.0  71.2833  1  0  0        1"
      ],
      "text/html": "<div>\n<style scoped>\n    .dataframe tbody tr th:only-of-type {\n        vertical-align: middle;\n    }\n\n    .dataframe tbody tr th {\n        vertical-align: top;\n    }\n\n    .dataframe thead th {\n        text-align: right;\n    }\n</style>\n<table border=\"1\" class=\"dataframe\">\n  <thead>\n    <tr style=\"text-align: right;\">\n      <th></th>\n      <th>Pclass</th>\n      <th>Age</th>\n      <th>SibSp</th>\n      <th>Parch</th>\n      <th>Fare</th>\n      <th>C</th>\n      <th>Q</th>\n      <th>S</th>\n      <th>Sex_1.0</th>\n    </tr>\n  </thead>\n  <tbody>\n    <tr>\n      <th>0</th>\n      <td>3.0</td>\n      <td>22.0</td>\n      <td>1.0</td>\n      <td>0.0</td>\n      <td>7.2500</td>\n      <td>0</td>\n      <td>0</td>\n      <td>1</td>\n      <td>0</td>\n    </tr>\n    <tr>\n      <th>1</th>\n      <td>1.0</td>\n      <td>38.0</td>\n      <td>1.0</td>\n      <td>0.0</td>\n      <td>71.2833</td>\n      <td>1</td>\n      <td>0</td>\n      <td>0</td>\n      <td>1</td>\n    </tr>\n  </tbody>\n</table>\n</div>"
     },
     "metadata": {},
     "execution_count": 45
    }
   ],
   "source": [
    "trainer.head(2)"
   ]
  },
  {
   "cell_type": "code",
   "execution_count": 46,
   "metadata": {},
   "outputs": [],
   "source": [
    "trainer['family_size'] = trainer.SibSp+ trainer['Parch'] + 1\n",
    "\n",
    "tester['family_size'] = tester.SibSp + tester['Parch'] + 1"
   ]
  },
  {
   "cell_type": "code",
   "execution_count": 47,
   "metadata": {},
   "outputs": [
    {
     "output_type": "execute_result",
     "data": {
      "text/plain": [
       "     Pclass   Age  SibSp  Parch    Fare  C  Q  S  Sex_1.0  family_size\n",
       "891     3.0  34.5    0.0    0.0  7.8292  0  1  0        0          1.0"
      ],
      "text/html": "<div>\n<style scoped>\n    .dataframe tbody tr th:only-of-type {\n        vertical-align: middle;\n    }\n\n    .dataframe tbody tr th {\n        vertical-align: top;\n    }\n\n    .dataframe thead th {\n        text-align: right;\n    }\n</style>\n<table border=\"1\" class=\"dataframe\">\n  <thead>\n    <tr style=\"text-align: right;\">\n      <th></th>\n      <th>Pclass</th>\n      <th>Age</th>\n      <th>SibSp</th>\n      <th>Parch</th>\n      <th>Fare</th>\n      <th>C</th>\n      <th>Q</th>\n      <th>S</th>\n      <th>Sex_1.0</th>\n      <th>family_size</th>\n    </tr>\n  </thead>\n  <tbody>\n    <tr>\n      <th>891</th>\n      <td>3.0</td>\n      <td>34.5</td>\n      <td>0.0</td>\n      <td>0.0</td>\n      <td>7.8292</td>\n      <td>0</td>\n      <td>1</td>\n      <td>0</td>\n      <td>0</td>\n      <td>1.0</td>\n    </tr>\n  </tbody>\n</table>\n</div>"
     },
     "metadata": {},
     "execution_count": 47
    }
   ],
   "source": [
    "tester.head(1)"
   ]
  },
  {
   "cell_type": "code",
   "execution_count": 48,
   "metadata": {},
   "outputs": [],
   "source": [
    "trainer['is_alone'] = 0 \n",
    "tester['is_alone'] = 0 "
   ]
  },
  {
   "cell_type": "code",
   "execution_count": 49,
   "metadata": {},
   "outputs": [],
   "source": [
    "trainer.loc[trainer['family_size']==1, 'is_alone']=1\n",
    "tester.loc[tester['family_size']==1, 'is_alone']=1"
   ]
  },
  {
   "cell_type": "code",
   "execution_count": 50,
   "metadata": {},
   "outputs": [
    {
     "output_type": "execute_result",
     "data": {
      "text/plain": [
       "     Pclass   Age  SibSp  Parch     Fare  C  Q  S  Sex_1.0  family_size  \\\n",
       "891     3.0  34.5    0.0    0.0   7.8292  0  1  0        0          1.0   \n",
       "892     3.0  47.0    1.0    0.0   7.0000  0  0  1        1          2.0   \n",
       "893     2.0  62.0    0.0    0.0   9.6875  0  1  0        0          1.0   \n",
       "894     3.0  27.0    0.0    0.0   8.6625  0  0  1        0          1.0   \n",
       "895     3.0  22.0    1.0    1.0  12.2875  0  0  1        1          3.0   \n",
       "\n",
       "     is_alone  \n",
       "891         1  \n",
       "892         0  \n",
       "893         1  \n",
       "894         1  \n",
       "895         0  "
      ],
      "text/html": "<div>\n<style scoped>\n    .dataframe tbody tr th:only-of-type {\n        vertical-align: middle;\n    }\n\n    .dataframe tbody tr th {\n        vertical-align: top;\n    }\n\n    .dataframe thead th {\n        text-align: right;\n    }\n</style>\n<table border=\"1\" class=\"dataframe\">\n  <thead>\n    <tr style=\"text-align: right;\">\n      <th></th>\n      <th>Pclass</th>\n      <th>Age</th>\n      <th>SibSp</th>\n      <th>Parch</th>\n      <th>Fare</th>\n      <th>C</th>\n      <th>Q</th>\n      <th>S</th>\n      <th>Sex_1.0</th>\n      <th>family_size</th>\n      <th>is_alone</th>\n    </tr>\n  </thead>\n  <tbody>\n    <tr>\n      <th>891</th>\n      <td>3.0</td>\n      <td>34.5</td>\n      <td>0.0</td>\n      <td>0.0</td>\n      <td>7.8292</td>\n      <td>0</td>\n      <td>1</td>\n      <td>0</td>\n      <td>0</td>\n      <td>1.0</td>\n      <td>1</td>\n    </tr>\n    <tr>\n      <th>892</th>\n      <td>3.0</td>\n      <td>47.0</td>\n      <td>1.0</td>\n      <td>0.0</td>\n      <td>7.0000</td>\n      <td>0</td>\n      <td>0</td>\n      <td>1</td>\n      <td>1</td>\n      <td>2.0</td>\n      <td>0</td>\n    </tr>\n    <tr>\n      <th>893</th>\n      <td>2.0</td>\n      <td>62.0</td>\n      <td>0.0</td>\n      <td>0.0</td>\n      <td>9.6875</td>\n      <td>0</td>\n      <td>1</td>\n      <td>0</td>\n      <td>0</td>\n      <td>1.0</td>\n      <td>1</td>\n    </tr>\n    <tr>\n      <th>894</th>\n      <td>3.0</td>\n      <td>27.0</td>\n      <td>0.0</td>\n      <td>0.0</td>\n      <td>8.6625</td>\n      <td>0</td>\n      <td>0</td>\n      <td>1</td>\n      <td>0</td>\n      <td>1.0</td>\n      <td>1</td>\n    </tr>\n    <tr>\n      <th>895</th>\n      <td>3.0</td>\n      <td>22.0</td>\n      <td>1.0</td>\n      <td>1.0</td>\n      <td>12.2875</td>\n      <td>0</td>\n      <td>0</td>\n      <td>1</td>\n      <td>1</td>\n      <td>3.0</td>\n      <td>0</td>\n    </tr>\n  </tbody>\n</table>\n</div>"
     },
     "metadata": {},
     "execution_count": 50
    }
   ],
   "source": [
    "tester.head()"
   ]
  },
  {
   "cell_type": "code",
   "execution_count": 51,
   "metadata": {},
   "outputs": [],
   "source": [
    "X_train,X_test,y_train,y_test = train_test_split(trainer,train.Survived)"
   ]
  },
  {
   "cell_type": "code",
   "execution_count": 52,
   "metadata": {},
   "outputs": [
    {
     "output_type": "execute_result",
     "data": {
      "text/plain": [
       "(668, 11)"
      ]
     },
     "metadata": {},
     "execution_count": 52
    }
   ],
   "source": [
    "X_train.shape"
   ]
  },
  {
   "cell_type": "code",
   "execution_count": 53,
   "metadata": {},
   "outputs": [],
   "source": [
    "clf =RandomForestClassifier()"
   ]
  },
  {
   "cell_type": "code",
   "execution_count": 54,
   "metadata": {},
   "outputs": [
    {
     "output_type": "execute_result",
     "data": {
      "text/plain": [
       "RandomForestClassifier()"
      ]
     },
     "metadata": {},
     "execution_count": 54
    }
   ],
   "source": [
    "clf.fit(X_train,y_train)"
   ]
  },
  {
   "cell_type": "code",
   "execution_count": 55,
   "metadata": {},
   "outputs": [],
   "source": [
    "preds= clf.predict(X_test)"
   ]
  },
  {
   "cell_type": "code",
   "execution_count": 56,
   "metadata": {},
   "outputs": [
    {
     "output_type": "execute_result",
     "data": {
      "text/plain": [
       "0.7982062780269058"
      ]
     },
     "metadata": {},
     "execution_count": 56
    }
   ],
   "source": [
    "clf.score(X_test,y_test)"
   ]
  },
  {
   "cell_type": "code",
   "execution_count": 57,
   "metadata": {},
   "outputs": [],
   "source": [
    "from sklearn.linear_model import LogisticRegression"
   ]
  },
  {
   "cell_type": "code",
   "execution_count": 58,
   "metadata": {},
   "outputs": [],
   "source": [
    "log = LogisticRegression()\n"
   ]
  },
  {
   "cell_type": "code",
   "execution_count": 59,
   "metadata": {},
   "outputs": [
    {
     "output_type": "execute_result",
     "data": {
      "text/plain": [
       "LogisticRegression()"
      ]
     },
     "metadata": {},
     "execution_count": 59
    }
   ],
   "source": [
    "log.fit(X_train,y_train)"
   ]
  },
  {
   "cell_type": "code",
   "execution_count": 60,
   "metadata": {},
   "outputs": [],
   "source": [
    "l_preds =  log.predict(X_test)"
   ]
  },
  {
   "cell_type": "code",
   "execution_count": 61,
   "metadata": {},
   "outputs": [
    {
     "output_type": "execute_result",
     "data": {
      "text/plain": [
       "0.8071748878923767"
      ]
     },
     "metadata": {},
     "execution_count": 61
    }
   ],
   "source": [
    "log.score(X_test,y_test)"
   ]
  },
  {
   "cell_type": "code",
   "execution_count": 62,
   "metadata": {},
   "outputs": [],
   "source": [
    "sub =pd.read_csv('gender_submission.csv')"
   ]
  },
  {
   "cell_type": "code",
   "execution_count": 63,
   "metadata": {},
   "outputs": [],
   "source": [
    "sub.Survived = log.predict(tester)"
   ]
  },
  {
   "cell_type": "code",
   "execution_count": null,
   "metadata": {},
   "outputs": [],
   "source": []
  },
  {
   "cell_type": "code",
   "execution_count": 64,
   "metadata": {},
   "outputs": [],
   "source": [
    "sub.to_csv('Titanic_sub3.csv', index=False)"
   ]
  },
  {
   "cell_type": "code",
   "execution_count": 65,
   "metadata": {},
   "outputs": [],
   "source": [
    "sub.Survived = clf.predict(tester)"
   ]
  },
  {
   "cell_type": "code",
   "execution_count": 66,
   "metadata": {},
   "outputs": [],
   "source": [
    "sub.to_csv('Titanic_sub4.csv', index=False)"
   ]
  },
  {
   "cell_type": "code",
   "execution_count": null,
   "metadata": {},
   "outputs": [],
   "source": []
  },
  {
   "source": [
    "## Cross validation\n"
   ],
   "cell_type": "markdown",
   "metadata": {}
  },
  {
   "cell_type": "code",
   "execution_count": 67,
   "metadata": {},
   "outputs": [],
   "source": [
    "from sklearn.model_selection import KFold\n",
    "\n"
   ]
  },
  {
   "cell_type": "code",
   "execution_count": 68,
   "metadata": {},
   "outputs": [],
   "source": [
    "K_Fold = KFold(n_splits=5,shuffle=True)\n",
    "\n",
    "\n",
    "pred_test= np.zeros((len(tester),1))\n",
    "test_= np.zeros((len(X_test),1))\n",
    "for tr_in, te_in in K_Fold.split(trainer, train.Survived):\n",
    "    #getting the dataapoint\n",
    "\n",
    "\n",
    "    X_train,X_test =trainer.iloc[tr_in],trainer.iloc[te_in]\n",
    "    y_train,y_test = train.Survived.iloc[tr_in],train.Survived.iloc[te_in]\n",
    "\n",
    "clf =RandomForestClassifier(n_estimators=400,max_depth=6)\n",
    "clf.fit(X_train,y_train)\n",
    "\n",
    "pred_test = clf.predict(tester)\n",
    "test_ = clf.predict(X_test)"
   ]
  },
  {
   "cell_type": "code",
   "execution_count": 69,
   "metadata": {},
   "outputs": [],
   "source": [
    "from sklearn.metrics import roc_auc_score, accuracy_score"
   ]
  },
  {
   "cell_type": "code",
   "execution_count": 70,
   "metadata": {},
   "outputs": [
    {
     "output_type": "execute_result",
     "data": {
      "text/plain": [
       "0.8370786516853933"
      ]
     },
     "metadata": {},
     "execution_count": 70
    }
   ],
   "source": [
    "accuracy_score(test_,y_test)"
   ]
  },
  {
   "cell_type": "code",
   "execution_count": 71,
   "metadata": {},
   "outputs": [
    {
     "output_type": "execute_result",
     "data": {
      "text/plain": [
       "0.8524425287356322"
      ]
     },
     "metadata": {},
     "execution_count": 71
    }
   ],
   "source": [
    "roc_auc_score(test_,y_test)"
   ]
  },
  {
   "cell_type": "code",
   "execution_count": 72,
   "metadata": {},
   "outputs": [
    {
     "output_type": "execute_result",
     "data": {
      "text/plain": [
       "array([0, 1, 1, 1, 0, 1, 0, 0, 0, 0, 0, 0, 0, 0, 0, 0, 1, 1, 0, 0, 0, 1,\n",
       "       0, 1, 0, 0, 0, 0, 0, 0, 1, 1, 1, 0, 0, 1, 0, 0, 0, 1, 0, 1, 1, 0,\n",
       "       0, 0, 1, 1, 0, 1, 1, 0, 0, 1, 0, 1, 1, 0, 0, 1, 0, 0, 0, 0, 0, 0,\n",
       "       1, 1, 1, 0, 0, 0, 1, 0, 0, 0, 0, 0, 1, 1, 1, 0, 1, 1, 1, 0, 0, 0,\n",
       "       0, 0, 0, 1, 1, 1, 1, 0, 0, 0, 0, 1, 0, 0, 0, 0, 0, 0, 0, 0, 0, 1,\n",
       "       0, 0, 0, 0, 0, 0, 0, 1, 1, 1, 1, 0, 0, 1, 1, 1, 0, 0, 0, 1, 0, 0,\n",
       "       0, 1, 1, 0, 0, 0, 0, 0, 0, 0, 0, 0, 0, 0, 0, 1, 0, 1, 1, 0, 0, 0,\n",
       "       1, 0, 1, 0, 1, 1, 0, 0, 0, 0, 0, 0, 0, 0, 0, 0, 0, 1, 1, 0, 0, 0,\n",
       "       0, 0])"
      ]
     },
     "metadata": {},
     "execution_count": 72
    }
   ],
   "source": [
    "test_"
   ]
  },
  {
   "cell_type": "code",
   "execution_count": 73,
   "metadata": {},
   "outputs": [],
   "source": [
    "sub.Survived = pred_test"
   ]
  },
  {
   "cell_type": "code",
   "execution_count": 74,
   "metadata": {},
   "outputs": [],
   "source": [
    "sub.to_csv('Cross_validate.csv', index= False)"
   ]
  },
  {
   "source": [
    "## Saving the model\n",
    "atempting to serve the model"
   ],
   "cell_type": "markdown",
   "metadata": {}
  },
  {
   "cell_type": "code",
   "execution_count": 75,
   "metadata": {},
   "outputs": [],
   "source": [
    "import pickle"
   ]
  },
  {
   "cell_type": "code",
   "execution_count": 76,
   "metadata": {},
   "outputs": [],
   "source": [
    "pickle.dump(clf,open('titanic_cv_model.pkl','wb'))"
   ]
  },
  {
   "cell_type": "code",
   "execution_count": null,
   "metadata": {},
   "outputs": [],
   "source": []
  },
  {
   "cell_type": "code",
   "execution_count": null,
   "metadata": {},
   "outputs": [],
   "source": []
  },
  {
   "cell_type": "code",
   "execution_count": null,
   "metadata": {},
   "outputs": [],
   "source": []
  },
  {
   "cell_type": "code",
   "execution_count": null,
   "metadata": {},
   "outputs": [],
   "source": []
  },
  {
   "cell_type": "code",
   "execution_count": null,
   "metadata": {},
   "outputs": [],
   "source": []
  },
  {
   "cell_type": "code",
   "execution_count": null,
   "metadata": {},
   "outputs": [],
   "source": []
  },
  {
   "cell_type": "code",
   "execution_count": null,
   "metadata": {},
   "outputs": [],
   "source": []
  },
  {
   "cell_type": "code",
   "execution_count": null,
   "metadata": {},
   "outputs": [],
   "source": []
  },
  {
   "cell_type": "code",
   "execution_count": null,
   "metadata": {},
   "outputs": [],
   "source": []
  },
  {
   "cell_type": "code",
   "execution_count": null,
   "metadata": {},
   "outputs": [],
   "source": []
  },
  {
   "cell_type": "code",
   "execution_count": null,
   "metadata": {},
   "outputs": [],
   "source": []
  },
  {
   "cell_type": "code",
   "execution_count": null,
   "metadata": {},
   "outputs": [],
   "source": []
  },
  {
   "cell_type": "code",
   "execution_count": null,
   "metadata": {},
   "outputs": [],
   "source": []
  },
  {
   "cell_type": "code",
   "execution_count": null,
   "metadata": {},
   "outputs": [],
   "source": []
  },
  {
   "cell_type": "code",
   "execution_count": null,
   "metadata": {},
   "outputs": [],
   "source": []
  },
  {
   "cell_type": "code",
   "execution_count": null,
   "metadata": {},
   "outputs": [],
   "source": []
  },
  {
   "cell_type": "code",
   "execution_count": null,
   "metadata": {},
   "outputs": [],
   "source": []
  },
  {
   "cell_type": "code",
   "execution_count": null,
   "metadata": {},
   "outputs": [],
   "source": []
  }
 ]
}